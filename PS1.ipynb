{
 "cells": [
  {
   "cell_type": "markdown",
   "id": "9803c92c-fec5-42b0-95dc-04f4147b16c2",
   "metadata": {},
   "source": [
    "# Problem Set 1"
   ]
  },
  {
   "cell_type": "markdown",
   "id": "aff25f34-87db-4e82-991f-285541111b56",
   "metadata": {},
   "source": [
    "## Question 4"
   ]
  },
  {
   "cell_type": "markdown",
   "id": "27aa8c39-0c90-4db3-ab56-62c754be4930",
   "metadata": {},
   "source": [
    "Continuing with the model (4), we numerically investigate the performance of various estimators designed for static panel data models, namely, $\\hat\\beta_{n,\\mathrm{POLS}}$, $\\hat\\beta_{n,\\mathrm{FE}}$, $\\hat\\beta_{n,\\mathrm{FD}}$, and the first differenced estimator using $Y_{i,t-2}$ as instrument (i.e., the IV estimator of $\\beta_0$ for the first-differenced equation using $Y_{i,t-2}$ as instrument). First, for each triple $(n,T,\\beta_0)$ to be specified shortly, obtain the sample as follows."
   ]
  },
  {
   "cell_type": "markdown",
   "id": "a65df22c-67d8-4b5e-a6cc-a3222ef67b67",
   "metadata": {},
   "source": [
    "1. Simulate $\\alpha_i\\overset{\\mathrm{iid}}{\\sim} N(0,1)$ and $\\epsilon_i\\overset{\\mathrm{iid}}{\\sim} N(0,1)$.\n",
    "\n",
    "2. Generate $Y_{i0}$ according to $Y_{i0}=0.5\\alpha_i + \\epsilon_i$.\n",
    "\n",
    "3. Generate $Y_{it}$ according to (4) with $V_{it}\\overset{\\mathrm{iid}}{\\sim} N(0,1)$."
   ]
  },
  {
   "cell_type": "markdown",
   "id": "d19a5f7f-8de6-43f6-be70-9c5ed6e24683",
   "metadata": {},
   "source": [
    "You may then compute the aforementioned estimators with the generated sample. Repeat the above steps $1000$ times, let $\\hat\\beta^{(r)}$ be the estimate based on the $i$th replication (for a particular estimator), and then the finite sample bias, standard error and root mean squared error are computed as follows:\n",
    "\n",
    "\\begin{align}\n",
    "    \\mathrm{Bias}(\\hat\\beta)&=\\frac{1}{1000}\\sum_{r=1}^{1000}\\hat\\beta^{(r)} - \\beta_0~,\\\\\n",
    "    \\mathrm{SE}(\\hat\\beta)&=\\{\\frac{1}{1000}\\sum_{r=1}^{1000}(\\hat\\beta^{(r)}-\\frac{1}{1000}\\sum_{r=1}^{1000}\\hat\\beta^{(r)})^2 \\}^{1/2}~,\\\\\n",
    "    \\mathrm{RMSE} (\\hat\\beta) & = \\{[\\mathrm{Bias}(\\hat\\beta)]^2 + [\\mathrm{SE}(\\hat\\beta)]^2\\}^{1/2}~.\n",
    "\\end{align}"
   ]
  },
  {
   "cell_type": "markdown",
   "id": "b9f69bbe-f568-4934-b6b7-bb4a1ef899b8",
   "metadata": {},
   "source": [
    "1. Let $n=100$ and $T=6$. Graph the bias, se and rmse of each estimator as functions of $\\beta_0\\in\\{0,0.25,0.5,0.75,1\\}$."
   ]
  },
  {
   "cell_type": "code",
   "execution_count": null,
   "id": "51250e9a-28ec-419e-893e-24fe15aaca96",
   "metadata": {},
   "outputs": [],
   "source": []
  },
  {
   "cell_type": "markdown",
   "id": "8aa6ffe1-dd82-4158-8715-27ff9f20091d",
   "metadata": {},
   "source": [
    "2. Repeat part (1) with $(n,T)=(100,3)$ and $(n,T)=(100,9)$."
   ]
  },
  {
   "cell_type": "code",
   "execution_count": null,
   "id": "09a56820-c0ad-44fa-bde0-9e3386b8eed8",
   "metadata": {},
   "outputs": [],
   "source": []
  },
  {
   "cell_type": "markdown",
   "id": "5bf9623c-6155-48c5-a66b-5edbef35a08f",
   "metadata": {},
   "source": [
    "## Question 5"
   ]
  },
  {
   "cell_type": "markdown",
   "id": "2d0fdddd-0224-4f01-b2fb-2c322d96726b",
   "metadata": {},
   "source": [
    "Do Exercise 17.17(a) in Hansen (2022). You will need the formula (17.93) in Hansen (2022) (see the pdf file in Canvas) for the clustered standard errors."
   ]
  },
  {
   "cell_type": "code",
   "execution_count": null,
   "id": "e3f65d0a-0b6e-4a9a-9f9a-5644fadfd67a",
   "metadata": {},
   "outputs": [],
   "source": []
  }
 ],
 "metadata": {
  "environment": {
   "kernel": "python3",
   "name": "common-cpu.m94",
   "type": "gcloud",
   "uri": "gcr.io/deeplearning-platform-release/base-cpu:m94"
  },
  "kernelspec": {
   "display_name": "Python 3",
   "language": "python",
   "name": "python3"
  },
  "language_info": {
   "codemirror_mode": {
    "name": "ipython",
    "version": 3
   },
   "file_extension": ".py",
   "mimetype": "text/x-python",
   "name": "python",
   "nbconvert_exporter": "python",
   "pygments_lexer": "ipython3",
   "version": "3.7.12"
  }
 },
 "nbformat": 4,
 "nbformat_minor": 5
}
