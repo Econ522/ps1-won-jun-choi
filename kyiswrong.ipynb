{
 "cells": [
  {
   "cell_type": "code",
   "execution_count": 1,
   "id": "c88067bf-5bf6-493a-987d-cca4e995c9fb",
   "metadata": {},
   "outputs": [],
   "source": [
    "import pandas as pd\n",
    "import numpy as np\n",
    "raw_data = pd.read_stata(\"https://www.ssc.wisc.edu/~bhansen/econometrics/Invest1993.dta\")\n"
   ]
  },
  {
   "cell_type": "code",
   "execution_count": 2,
   "id": "a3bb6c73-59c3-4f80-b822-9b97a1795944",
   "metadata": {},
   "outputs": [],
   "source": [
    "#Make the unbalanced data become balanced\n",
    "bal_data = raw_data.set_index([\"cusip\",\"year\"])\n",
    "index_pair = pd.MultiIndex.from_product([bal_data.index.levels[0], bal_data.index.levels[1]], names=[\"cusip\",\"year\"])\n",
    "bal_data = bal_data.reindex(index_pair, fill_value=0).reset_index()\n",
    "\n",
    "#Get all the id\n",
    "id_list = set(bal_data[\"cusip\"])\n",
    "\n",
    "#Function to create the z_i matrix for each individual \n",
    "def createzi(id, data):\n",
    "    \n",
    "    pd.options.mode.chained_assignment = None\n",
    "    \n",
    "    raw = data[[\"cusip\",\"year\", \"debta\"]]\n",
    "\n",
    "    raw_i = raw[raw[\"cusip\"] == id]\n",
    "    \n",
    "    y_seq = [raw_i[\"debta\"].tolist()[0:x]  for x in range(len(raw_i))][1:]\n",
    "    \n",
    "    #Make it into block matrix\n",
    "    from scipy.sparse import block_diag\n",
    "    z = block_diag(y_seq[:-1]).toarray()\n",
    "    \n",
    "    return z \n",
    "\n",
    "#Get individual zi\n",
    "z_list = []\n",
    "for i in id_list:\n",
    "    z_list.append(createzi(i, bal_data))\n",
    "    \n",
    "#Get gamma_head_1\n",
    "zhz_list = []\n",
    "for i in z_list:\n",
    "    \n",
    "    #first create matrix H\n",
    "    l = len(i)\n",
    "\n",
    "    from scipy.sparse import diags\n",
    "    diagonals = [[2]*l, [-1]*(l-1), [-1]*(l-1)]\n",
    "    H = np.asmatrix(diags(diagonals, [0, -1, 1]).toarray())\n",
    "    i = np.asmatrix(i)\n",
    "    \n",
    "    zhz_list.append(i.T@H@i) \n",
    "gamma_head_1 = sum(zhz_list)   #465*465"
   ]
  },
  {
   "cell_type": "code",
   "execution_count": null,
   "id": "9c1a0d3d-33a2-4863-9252-6a385b75b4d1",
   "metadata": {},
   "outputs": [],
   "source": []
  },
  {
   "cell_type": "code",
   "execution_count": 18,
   "id": "73688710-3c9e-48e9-8a01-6aeeb71ca8aa",
   "metadata": {},
   "outputs": [
    {
     "ename": "ValueError",
     "evalue": "matmul: Input operand 1 has a mismatch in its core dimension 0, with gufunc signature (n?,k),(k,m?)->(n?,m?) (size 465 is different from 30)",
     "output_type": "error",
     "traceback": [
      "\u001b[0;31m---------------------------------------------------------------------------\u001b[0m",
      "\u001b[0;31mValueError\u001b[0m                                Traceback (most recent call last)",
      "\u001b[0;32m/tmp/ipykernel_5724/2180159049.py\u001b[0m in \u001b[0;36m<cell line: 39>\u001b[0;34m()\u001b[0m\n\u001b[1;32m     37\u001b[0m \u001b[0;34m\u001b[0m\u001b[0m\n\u001b[1;32m     38\u001b[0m \u001b[0;31m#Now, we are ready to get the one-step AB GMM estimator\u001b[0m\u001b[0;34m\u001b[0m\u001b[0;34m\u001b[0m\u001b[0m\n\u001b[0;32m---> 39\u001b[0;31m \u001b[0malpha_1_h\u001b[0m \u001b[0;34m=\u001b[0m \u001b[0;34m(\u001b[0m\u001b[0;34m(\u001b[0m\u001b[0mDXTZ\u001b[0m\u001b[0;34m@\u001b[0m\u001b[0mgamma_head_1\u001b[0m\u001b[0;34m.\u001b[0m\u001b[0mI\u001b[0m\u001b[0;34m@\u001b[0m\u001b[0mZTDX\u001b[0m\u001b[0;34m)\u001b[0m\u001b[0;34m.\u001b[0m\u001b[0mI\u001b[0m\u001b[0;34m)\u001b[0m\u001b[0;34m@\u001b[0m\u001b[0;34m(\u001b[0m\u001b[0mDXTZ\u001b[0m\u001b[0;34m@\u001b[0m\u001b[0mgamma_head_1\u001b[0m\u001b[0;34m.\u001b[0m\u001b[0mI\u001b[0m\u001b[0;34m@\u001b[0m\u001b[0mZTDY\u001b[0m\u001b[0;34m)\u001b[0m\u001b[0;34m\u001b[0m\u001b[0;34m\u001b[0m\u001b[0m\n\u001b[0m\u001b[1;32m     40\u001b[0m \u001b[0mprint\u001b[0m\u001b[0;34m(\u001b[0m\u001b[0;34m\"one-step AB GMM estimator is\"\u001b[0m\u001b[0;34m,\u001b[0m \u001b[0malpha_1_h\u001b[0m\u001b[0;34m.\u001b[0m\u001b[0mitem\u001b[0m\u001b[0;34m(\u001b[0m\u001b[0;34m)\u001b[0m\u001b[0;34m)\u001b[0m\u001b[0;34m\u001b[0m\u001b[0;34m\u001b[0m\u001b[0m\n",
      "\u001b[0;31mValueError\u001b[0m: matmul: Input operand 1 has a mismatch in its core dimension 0, with gufunc signature (n?,k),(k,m?)->(n?,m?) (size 465 is different from 30)"
     ]
    }
   ],
   "source": [
    "#Get (delta xi).T@zi\n",
    "def deltaxizi(id, data, zi):\n",
    "    \n",
    "    raw = data[[\"cusip\",\"year\", \"debta\"]]\n",
    "\n",
    "    raw_i = raw[raw[\"cusip\"] == id]\n",
    "    \n",
    "    deltaxi_trans = np.asmatrix(raw_i[\"debta\"].diff().shift(1)[2:])\n",
    "    \n",
    "    return deltaxi_trans\n",
    "\n",
    "#Get individual (delta xi).T@zi\n",
    "dxtz_list = []\n",
    "for i in range(len(id_list)):\n",
    "    dxtz_list.append(deltaxizi(list(id_list)[i], bal_data, z_list[i])[0])\n",
    "    \n",
    "DXTZ = sum(dxtz_list)\n",
    "ZTDX = DXTZ.T\n",
    "\n",
    "#Get zi.T@(delta yi)\n",
    "def zideltayi(id, data, zi):\n",
    "    \n",
    "    raw = data[[\"cusip\",\"year\", \"debta\"]]\n",
    "\n",
    "    raw_i = raw[raw[\"cusip\"] == id]\n",
    "    \n",
    "    deltayi_trans = np.asmatrix(raw_i[\"debta\"].diff()[2:])\n",
    "    \n",
    "    return (np.asmatrix(zi).T)@((deltayi_trans).T), deltayi_trans\n",
    "\n",
    "#Get individual zi.T@(delta yi)\n",
    "ztdy_list = []\n",
    "for i in range(len(id_list)):\n",
    "    ztdy_list.append(zideltayi(list(id_list)[i], bal_data, z_list[i])[0])\n",
    "    \n",
    "ZTDY = sum(ztdy_list)\n",
    "\n",
    "#Now, we are ready to get the one-step AB GMM estimator\n",
    "alpha_1_h = ((DXTZ@gamma_head_1.I@ZTDX).I)@(DXTZ@gamma_head_1.I@ZTDY)\n",
    "print(\"one-step AB GMM estimator is\", alpha_1_h.item())"
   ]
  },
  {
   "cell_type": "code",
   "execution_count": 23,
   "id": "6ab77b98-f7db-4af0-b3f4-0ef4bba5b57e",
   "metadata": {},
   "outputs": [],
   "source": [
    "def deltaxizi(id, data, zi):\n",
    "    \n",
    "    raw = data[[\"cusip\",\"year\", \"debta\"]]\n",
    "\n",
    "    raw_i = raw[raw[\"cusip\"] == id]\n",
    "    \n",
    "    deltaxi_trans = np.asmatrix(raw_i[\"debta\"].diff().shift(1)[2:])\n",
    "    \n",
    "    return deltaxi_trans\n",
    "    \n",
    "    \n",
    "\n",
    "dxtz_list = []\n",
    "for i in range(len(id_list)):\n",
    "    dxtz_list.append(deltaxizi(list(id_list)[i], bal_data, z_list[i]))"
   ]
  },
  {
   "cell_type": "code",
   "execution_count": 33,
   "id": "0e78b9de-4054-4150-aef3-8533d97f8cde",
   "metadata": {},
   "outputs": [
    {
     "data": {
      "text/plain": [
       "matrix([[ 0.     ,  0.     ,  0.     ,  0.     ,  0.     ,  0.     ,\n",
       "          0.     ,  0.     ,  0.     ,  0.04644,  0.61514, -0.08561,\n",
       "         -0.05826,  0.0299 , -0.20329,  0.21   ,  0.05132, -0.60564,\n",
       "          0.     ,  0.     ,  0.     ,  0.     ,  0.     ,  0.     ,\n",
       "          0.     ,  0.     ,  0.     ,  0.     ,  0.     ,  0.     ]])"
      ]
     },
     "execution_count": 33,
     "metadata": {},
     "output_type": "execute_result"
    }
   ],
   "source": [
    "data = bal_data\n",
    "raw = data[[\"cusip\",\"year\", \"debta\"]]\n",
    "raw_i = raw[raw[\"cusip\"] == 32]\n",
    "\n",
    "deltaxi_trans = np.asmatrix(raw_i[\"debta\"].diff().shift(1)[2:])\n",
    "deltaxi_trans"
   ]
  },
  {
   "cell_type": "code",
   "execution_count": 37,
   "id": "1c0baa45-b037-4b63-a625-4a15500a51e6",
   "metadata": {},
   "outputs": [
    {
     "data": {
      "text/html": [
       "<div>\n",
       "<style scoped>\n",
       "    .dataframe tbody tr th:only-of-type {\n",
       "        vertical-align: middle;\n",
       "    }\n",
       "\n",
       "    .dataframe tbody tr th {\n",
       "        vertical-align: top;\n",
       "    }\n",
       "\n",
       "    .dataframe thead th {\n",
       "        text-align: right;\n",
       "    }\n",
       "</style>\n",
       "<table border=\"1\" class=\"dataframe\">\n",
       "  <thead>\n",
       "    <tr style=\"text-align: right;\">\n",
       "      <th></th>\n",
       "      <th>cusip</th>\n",
       "      <th>year</th>\n",
       "      <th>debta</th>\n",
       "    </tr>\n",
       "  </thead>\n",
       "  <tbody>\n",
       "    <tr>\n",
       "      <th>0</th>\n",
       "      <td>NaN</td>\n",
       "      <td>NaN</td>\n",
       "      <td>NaN</td>\n",
       "    </tr>\n",
       "    <tr>\n",
       "      <th>1</th>\n",
       "      <td>NaN</td>\n",
       "      <td>NaN</td>\n",
       "      <td>NaN</td>\n",
       "    </tr>\n",
       "    <tr>\n",
       "      <th>2</th>\n",
       "      <td>0.0</td>\n",
       "      <td>1.0</td>\n",
       "      <td>0.61514</td>\n",
       "    </tr>\n",
       "    <tr>\n",
       "      <th>3</th>\n",
       "      <td>0.0</td>\n",
       "      <td>1.0</td>\n",
       "      <td>-0.08561</td>\n",
       "    </tr>\n",
       "    <tr>\n",
       "      <th>4</th>\n",
       "      <td>0.0</td>\n",
       "      <td>1.0</td>\n",
       "      <td>-0.05826</td>\n",
       "    </tr>\n",
       "    <tr>\n",
       "      <th>5</th>\n",
       "      <td>0.0</td>\n",
       "      <td>1.0</td>\n",
       "      <td>0.02990</td>\n",
       "    </tr>\n",
       "    <tr>\n",
       "      <th>6</th>\n",
       "      <td>0.0</td>\n",
       "      <td>1.0</td>\n",
       "      <td>-0.20329</td>\n",
       "    </tr>\n",
       "    <tr>\n",
       "      <th>7</th>\n",
       "      <td>0.0</td>\n",
       "      <td>1.0</td>\n",
       "      <td>0.21000</td>\n",
       "    </tr>\n",
       "  </tbody>\n",
       "</table>\n",
       "</div>"
      ],
      "text/plain": [
       "   cusip  year    debta\n",
       "0    NaN   NaN      NaN\n",
       "1    NaN   NaN      NaN\n",
       "2    0.0   1.0  0.61514\n",
       "3    0.0   1.0 -0.08561\n",
       "4    0.0   1.0 -0.05826\n",
       "5    0.0   1.0  0.02990\n",
       "6    0.0   1.0 -0.20329\n",
       "7    0.0   1.0  0.21000"
      ]
     },
     "execution_count": 37,
     "metadata": {},
     "output_type": "execute_result"
    }
   ],
   "source": [
    "bal_data[bal_data.cusip==32][['cusip','year','debta']]\n",
    "raw_data[raw_data.cusip==32][['cusip','year','debta']].diff().shift(1)"
   ]
  },
  {
   "cell_type": "code",
   "execution_count": 32,
   "id": "07b409ee-9ac5-4ae4-97b1-e649f2bbd185",
   "metadata": {},
   "outputs": [],
   "source": [
    "#dxtz_list"
   ]
  },
  {
   "cell_type": "code",
   "execution_count": null,
   "id": "08fe9ab9-d453-42c8-8a16-93c1d0531456",
   "metadata": {},
   "outputs": [],
   "source": []
  },
  {
   "cell_type": "code",
   "execution_count": null,
   "id": "63b21347-c302-458d-bad3-68b9f4ae605d",
   "metadata": {},
   "outputs": [],
   "source": []
  },
  {
   "cell_type": "code",
   "execution_count": 3,
   "id": "a4485aaa-6516-4272-9c98-723ee94370fb",
   "metadata": {},
   "outputs": [
    {
     "name": "stdout",
     "output_type": "stream",
     "text": [
      "two-step AB GMM estimator is 0.8205273587756814\n"
     ]
    }
   ],
   "source": [
    "#Now starts the second step\n",
    "\n",
    "#Get gamma_head_2\n",
    "zeez_list = []\n",
    "for i in range(len(id_list)):\n",
    "    deltayi = zideltayi(list(id_list)[i], bal_data, z_list[i])[1]\n",
    "    deltaxi = deltaxizi(list(id_list)[i], bal_data, z_list[i])[1]\n",
    "    eiT = deltayi - deltaxi* alpha_1_h.item()\n",
    "    zi = z_list[i]\n",
    "    zeez_list.append((zi.T)@(eiT.T)@eiT@zi)\n",
    "    \n",
    "gamma_head_2 = sum(zeez_list)   #465*465\n",
    "\n",
    "#gamma_head_2 is not invertible so we use pseudo-inverse\n",
    "g2_I = np.linalg.pinv(gamma_head_2)\n",
    "alpha_2_h = ((DXTZ@g2_I@ZTDX).I)@(DXTZ@g2_I@ZTDY)\n",
    "print(\"two-step AB GMM estimator is\", alpha_2_h.item())"
   ]
  },
  {
   "cell_type": "code",
   "execution_count": 7,
   "id": "c706d691-27ef-4269-8f3a-d977d9fc3e4e",
   "metadata": {},
   "outputs": [
    {
     "data": {
      "text/plain": [
       "(30, 465)"
      ]
     },
     "execution_count": 7,
     "metadata": {},
     "output_type": "execute_result"
    }
   ],
   "source": [
    "len(z_list)\n",
    "z_list[0].shape"
   ]
  },
  {
   "cell_type": "code",
   "execution_count": 8,
   "id": "5cf841a0-8edb-4d99-baf8-caa824ae96ad",
   "metadata": {},
   "outputs": [
    {
     "data": {
      "text/plain": [
       "matrix([[ 7.92367164e-01, -3.96183582e-01, -4.09305396e-01, ...,\n",
       "          0.00000000e+00,  0.00000000e+00,  0.00000000e+00],\n",
       "        [-3.96183582e-01,  7.92367164e-01,  8.18610791e-01, ...,\n",
       "          0.00000000e+00,  0.00000000e+00,  0.00000000e+00],\n",
       "        [-4.09305396e-01,  8.18610791e-01,  1.01474600e+00, ...,\n",
       "          0.00000000e+00,  0.00000000e+00,  0.00000000e+00],\n",
       "        ...,\n",
       "        [ 0.00000000e+00,  0.00000000e+00,  0.00000000e+00, ...,\n",
       "          9.54769962e+02,  7.07051961e+02,  6.47689799e+02],\n",
       "        [ 0.00000000e+00,  0.00000000e+00,  0.00000000e+00, ...,\n",
       "          7.07051961e+02,  7.61281274e+02,  6.20316579e+02],\n",
       "        [ 0.00000000e+00,  0.00000000e+00,  0.00000000e+00, ...,\n",
       "          6.47689799e+02,  6.20316579e+02,  7.55836529e+02]])"
      ]
     },
     "execution_count": 8,
     "metadata": {},
     "output_type": "execute_result"
    }
   ],
   "source": [
    "gamma_head_1"
   ]
  },
  {
   "cell_type": "code",
   "execution_count": null,
   "id": "381aee67-111c-4949-8536-3ad51e2d010d",
   "metadata": {},
   "outputs": [],
   "source": []
  },
  {
   "cell_type": "code",
   "execution_count": null,
   "id": "e82f150f-8e34-4836-89c1-7ddcf419072b",
   "metadata": {},
   "outputs": [],
   "source": []
  }
 ],
 "metadata": {
  "kernelspec": {
   "display_name": "Python 3 (ipykernel)",
   "language": "python",
   "name": "python3"
  },
  "language_info": {
   "codemirror_mode": {
    "name": "ipython",
    "version": 3
   },
   "file_extension": ".py",
   "mimetype": "text/x-python",
   "name": "python",
   "nbconvert_exporter": "python",
   "pygments_lexer": "ipython3",
   "version": "3.9.12"
  }
 },
 "nbformat": 4,
 "nbformat_minor": 5
}
